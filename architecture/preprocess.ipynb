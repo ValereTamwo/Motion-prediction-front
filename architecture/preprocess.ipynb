{
  "cells": [
    {
      "cell_type": "code",
      "execution_count": null,
      "metadata": {
        "colab": {
          "base_uri": "https://localhost:8080/"
        },
        "id": "NPJePa70HZcp",
        "outputId": "0314f57b-75a7-4817-d468-e3c5143e7223"
      },
      "outputs": [
        {
          "output_type": "stream",
          "name": "stdout",
          "text": [
            "Mounted at /content/drive\n"
          ]
        }
      ],
      "source": [
        "from google.colab import drive\n",
        "\n",
        "drive.mount('/content/drive')"
      ]
    },
    {
      "cell_type": "code",
      "execution_count": null,
      "metadata": {
        "id": "-r74S-EunknZ"
      },
      "outputs": [],
      "source": [
        "!cd \"/content/drive/MyDrive/motion-raw-video/data/test_data\"\n"
      ]
    },
    {
      "cell_type": "markdown",
      "metadata": {
        "id": "wJUHq_ghnj7r"
      },
      "source": []
    },
    {
      "cell_type": "code",
      "execution_count": null,
      "metadata": {
        "id": "ZuqbQjRDKZKs"
      },
      "outputs": [],
      "source": [
        "import os\n",
        "import cv2\n",
        "from datetime import datetime"
      ]
    },
    {
      "cell_type": "code",
      "execution_count": null,
      "metadata": {
        "id": "DiOsnuFHlmgV"
      },
      "outputs": [],
      "source": [
        "# Définition des répertoires\n",
        "RAW_VIDEOS_DIR = \"/content/drive/MyDrive/motion-raw-video/data/video-folder-6s/data\"\n",
        "PROCESSED_VIDEOS_DIR = \"/content/drive/MyDrive/motion-raw-video/data/dataset_motion_6s_test\""
      ]
    },
    {
      "cell_type": "code",
      "execution_count": null,
      "metadata": {
        "id": "-S4oPu561_44"
      },
      "outputs": [],
      "source": []
    },
    {
      "cell_type": "markdown",
      "metadata": {
        "id": "FtWNFHHyMdJl"
      },
      "source": [
        "## Recuperation des videos en date les plus recentes\n",
        "\n",
        "> Ajouter une citation\n",
        "\n"
      ]
    },
    {
      "cell_type": "code",
      "execution_count": null,
      "metadata": {
        "id": "TPYU5Q-amcET"
      },
      "outputs": [],
      "source": [
        "def get_latest_video_folder():\n",
        "    subdirs = [d for d in os.listdir(RAW_VIDEOS_DIR) if os.path.isdir(os.path.join(RAW_VIDEOS_DIR, d))]\n",
        "    subdirs.sort(key=lambda date: datetime.strptime(date, \"%d-%m-%Y\"), reverse=True)\n",
        "    return os.path.join(RAW_VIDEOS_DIR, subdirs[0]) if subdirs else None"
      ]
    },
    {
      "cell_type": "markdown",
      "source": [],
      "metadata": {
        "id": "X-DlRDDUpk-c"
      }
    },
    {
      "cell_type": "markdown",
      "metadata": {
        "id": "UXPrGZ1bMyuN"
      },
      "source": [
        "## Traitement de la video"
      ]
    },
    {
      "cell_type": "code",
      "execution_count": null,
      "metadata": {
        "id": "PWUWt7UVo1wm"
      },
      "outputs": [],
      "source": [
        "# Traitement de la vidéo\n",
        "def process_video(video_path, output_dir):\n",
        "    cap = cv2.VideoCapture(video_path)\n",
        "\n",
        "    # Récupérer les métadonnées de la vidéo\n",
        "    fps = int(cap.get(cv2.CAP_PROP_FPS))\n",
        "    frame_count = int(cap.get(cv2.CAP_PROP_FRAME_COUNT))\n",
        "    duration_seconds = frame_count / fps\n",
        "\n",
        "    # Définir le nombre de frames pour les séquences d'entrée et de sortie\n",
        "    input_frame_count = min(int(fps * 4), frame_count)\n",
        "    total_frame_count = min(int(fps * 6), frame_count)\n",
        "    target_frame_count = total_frame_count - input_frame_count + 1\n",
        "\n",
        "    # Diviser la vidéo en frames\n",
        "    input_frames_dir = os.path.join(output_dir, \"input_frames\")\n",
        "    target_frames_dir = os.path.join(output_dir, \"target_frames\")\n",
        "    os.makedirs(input_frames_dir, exist_ok=True)\n",
        "    os.makedirs(target_frames_dir, exist_ok=True)\n",
        "\n",
        "    for frame_number in range(total_frame_count):\n",
        "        ret, frame = cap.read()\n",
        "        if not ret:\n",
        "            break\n",
        "        if frame_number < input_frame_count:\n",
        "            input_frame_path = os.path.join(input_frames_dir, f\"frame_{frame_number:04d}.jpg\")\n",
        "            cv2.imwrite(input_frame_path, frame)\n",
        "        if frame_number >= input_frame_count - 1:\n",
        "            target_frame_index = frame_number - (input_frame_count - 1)\n",
        "            target_frame_path = os.path.join(target_frames_dir, f\"frame_{target_frame_index:04d}.jpg\")\n",
        "            cv2.imwrite(target_frame_path, frame)\n",
        "\n",
        "    # Fermer la capture vidéo\n",
        "    cap.release()\n"
      ]
    },
    {
      "cell_type": "code",
      "execution_count": null,
      "metadata": {
        "id": "AcPl2HzQmdfN"
      },
      "outputs": [],
      "source": [
        "def process_latest_video_folder():\n",
        "    latest_folder = RAW_VIDEOS_DIR\n",
        "    if latest_folder:\n",
        "        video_files = [f for f in os.listdir(latest_folder) if f.endswith('.mp4')]\n",
        "        for video_file in video_files:\n",
        "            video_path = os.path.join(latest_folder, video_file)\n",
        "            output_dir = os.path.join(PROCESSED_VIDEOS_DIR, video_file.split('.')[0])\n",
        "            os.makedirs(output_dir, exist_ok=True)\n",
        "            process_video(video_path, output_dir)"
      ]
    },
    {
      "cell_type": "markdown",
      "metadata": {
        "id": "mJYaf1YE0zu9"
      },
      "source": []
    },
    {
      "cell_type": "code",
      "execution_count": null,
      "metadata": {
        "id": "eFymHuQ-o9QV"
      },
      "outputs": [],
      "source": [
        "if __name__ == \"__main__\":\n",
        "    if not os.path.exists(PROCESSED_VIDEOS_DIR):\n",
        "        os.makedirs(PROCESSED_VIDEOS_DIR)\n",
        "\n",
        "    # Traiter le dossier de vidéos le plus récent\n",
        "    process_latest_video_folder()"
      ]
    },
    {
      "cell_type": "code",
      "execution_count": null,
      "metadata": {
        "id": "Tgak2vBapBMa"
      },
      "outputs": [],
      "source": [
        "# Définition des répertoires\n",
        "RAW_VIDEOS_DIR = \"/content/drive/MyDrive/motion-raw-video/data/hard-video-folders-path/videos-folders/\"\n",
        "PROCESSED_VIDEOS_DIR = \"/content/drive/MyDrive/motion-raw-video/data/dataset_motion_prediction\""
      ]
    },
    {
      "cell_type": "code",
      "execution_count": null,
      "metadata": {
        "colab": {
          "base_uri": "https://localhost:8080/"
        },
        "id": "G_7l4Onfn3_o",
        "outputId": "2652efda-0f32-43ed-980e-7622b73d35ef"
      },
      "outputs": [
        {
          "name": "stdout",
          "output_type": "stream",
          "text": [
            "Les dossiers ont été copiés avec succès.\n"
          ]
        }
      ],
      "source": [
        "\n"
      ]
    },
    {
      "cell_type": "code",
      "execution_count": null,
      "metadata": {
        "colab": {
          "background_save": true,
          "base_uri": "https://localhost:8080/"
        },
        "id": "Zy5TouIwn3qa",
        "outputId": "18c6ba61-a5c7-421d-aede-2191ff8c3499"
      },
      "outputs": [
        {
          "name": "stdout",
          "output_type": "stream",
          "text": [
            "Copied /content/drive/MyDrive/motion-raw-video/data/dataset_motion_prediction/V2/input_frames to inputs/V2\n",
            "Copied /content/drive/MyDrive/motion-raw-video/data/dataset_motion_prediction/V2/target_frames to targets/V2\n",
            "Copied /content/drive/MyDrive/motion-raw-video/data/dataset_motion_prediction/V15/input_frames to inputs/V15\n",
            "Copied /content/drive/MyDrive/motion-raw-video/data/dataset_motion_prediction/V15/target_frames to targets/V15\n",
            "Copied /content/drive/MyDrive/motion-raw-video/data/dataset_motion_prediction/V14/input_frames to inputs/V14\n",
            "Copied /content/drive/MyDrive/motion-raw-video/data/dataset_motion_prediction/V14/target_frames to targets/V14\n",
            "Copied /content/drive/MyDrive/motion-raw-video/data/dataset_motion_prediction/V9/input_frames to inputs/V9\n",
            "Copied /content/drive/MyDrive/motion-raw-video/data/dataset_motion_prediction/V9/target_frames to targets/V9\n",
            "Copied /content/drive/MyDrive/motion-raw-video/data/dataset_motion_prediction/V6/input_frames to inputs/V6\n",
            "Copied /content/drive/MyDrive/motion-raw-video/data/dataset_motion_prediction/V6/target_frames to targets/V6\n",
            "Copied /content/drive/MyDrive/motion-raw-video/data/dataset_motion_prediction/V7/input_frames to inputs/V7\n",
            "Copied /content/drive/MyDrive/motion-raw-video/data/dataset_motion_prediction/V7/target_frames to targets/V7\n",
            "Copied /content/drive/MyDrive/motion-raw-video/data/dataset_motion_prediction/V10/input_frames to inputs/V10\n",
            "Copied /content/drive/MyDrive/motion-raw-video/data/dataset_motion_prediction/V10/target_frames to targets/V10\n",
            "Copied /content/drive/MyDrive/motion-raw-video/data/dataset_motion_prediction/V11/input_frames to inputs/V11\n",
            "Copied /content/drive/MyDrive/motion-raw-video/data/dataset_motion_prediction/V11/target_frames to targets/V11\n",
            "Copied /content/drive/MyDrive/motion-raw-video/data/dataset_motion_prediction/V12/input_frames to inputs/V12\n",
            "Copied /content/drive/MyDrive/motion-raw-video/data/dataset_motion_prediction/V12/target_frames to targets/V12\n",
            "Copied /content/drive/MyDrive/motion-raw-video/data/dataset_motion_prediction/V13/input_frames to inputs/V13\n",
            "Copied /content/drive/MyDrive/motion-raw-video/data/dataset_motion_prediction/V13/target_frames to targets/V13\n",
            "Copied /content/drive/MyDrive/motion-raw-video/data/dataset_motion_prediction/V8/input_frames to inputs/V8\n",
            "Copied /content/drive/MyDrive/motion-raw-video/data/dataset_motion_prediction/V8/target_frames to targets/V8\n",
            "Error copying /content/drive/MyDrive/motion-raw-video/data/dataset_motion_prediction/V3/input_frames to inputs/V3: [('/content/drive/MyDrive/motion-raw-video/data/dataset_motion_prediction/V3/input_frames/frame_0182.jpg', 'inputs/V3/frame_0182.jpg', '[Errno 2] No such file or directory'), ('/content/drive/MyDrive/motion-raw-video/data/dataset_motion_prediction/V3/input_frames/frame_0183.jpg', 'inputs/V3/frame_0183.jpg', \"[Errno 2] No such file or directory: 'inputs/V3/frame_0183.jpg'\"), ('/content/drive/MyDrive/motion-raw-video/data/dataset_motion_prediction/V3/input_frames/frame_0184.jpg', 'inputs/V3/frame_0184.jpg', \"[Errno 2] No such file or directory: 'inputs/V3/frame_0184.jpg'\"), ('/content/drive/MyDrive/motion-raw-video/data/dataset_motion_prediction/V3/input_frames/frame_0185.jpg', 'inputs/V3/frame_0185.jpg', \"[Errno 2] No such file or directory: 'inputs/V3/frame_0185.jpg'\"), ('/content/drive/MyDrive/motion-raw-video/data/dataset_motion_prediction/V3/input_frames/frame_0186.jpg', 'inputs/V3/frame_0186.jpg', \"[Errno 2] No such file or directory: 'inputs/V3/frame_0186.jpg'\"), ('/content/drive/MyDrive/motion-raw-video/data/dataset_motion_prediction/V3/input_frames/frame_0187.jpg', 'inputs/V3/frame_0187.jpg', \"[Errno 2] No such file or directory: 'inputs/V3/frame_0187.jpg'\"), ('/content/drive/MyDrive/motion-raw-video/data/dataset_motion_prediction/V3/input_frames/frame_0188.jpg', 'inputs/V3/frame_0188.jpg', \"[Errno 2] No such file or directory: 'inputs/V3/frame_0188.jpg'\"), ('/content/drive/MyDrive/motion-raw-video/data/dataset_motion_prediction/V3/input_frames/frame_0189.jpg', 'inputs/V3/frame_0189.jpg', \"[Errno 2] No such file or directory: 'inputs/V3/frame_0189.jpg'\"), ('/content/drive/MyDrive/motion-raw-video/data/dataset_motion_prediction/V3/input_frames/frame_0190.jpg', 'inputs/V3/frame_0190.jpg', \"[Errno 2] No such file or directory: 'inputs/V3/frame_0190.jpg'\"), ('/content/drive/MyDrive/motion-raw-video/data/dataset_motion_prediction/V3/input_frames/frame_0191.jpg', 'inputs/V3/frame_0191.jpg', \"[Errno 2] No such file or directory: 'inputs/V3/frame_0191.jpg'\"), ('/content/drive/MyDrive/motion-raw-video/data/dataset_motion_prediction/V3/input_frames/frame_0192.jpg', 'inputs/V3/frame_0192.jpg', \"[Errno 2] No such file or directory: 'inputs/V3/frame_0192.jpg'\"), ('/content/drive/MyDrive/motion-raw-video/data/dataset_motion_prediction/V3/input_frames/frame_0193.jpg', 'inputs/V3/frame_0193.jpg', \"[Errno 2] No such file or directory: 'inputs/V3/frame_0193.jpg'\"), ('/content/drive/MyDrive/motion-raw-video/data/dataset_motion_prediction/V3/input_frames/frame_0194.jpg', 'inputs/V3/frame_0194.jpg', \"[Errno 2] No such file or directory: 'inputs/V3/frame_0194.jpg'\"), ('/content/drive/MyDrive/motion-raw-video/data/dataset_motion_prediction/V3/input_frames/frame_0195.jpg', 'inputs/V3/frame_0195.jpg', \"[Errno 2] No such file or directory: 'inputs/V3/frame_0195.jpg'\"), ('/content/drive/MyDrive/motion-raw-video/data/dataset_motion_prediction/V3/input_frames/frame_0196.jpg', 'inputs/V3/frame_0196.jpg', \"[Errno 2] No such file or directory: 'inputs/V3/frame_0196.jpg'\"), ('/content/drive/MyDrive/motion-raw-video/data/dataset_motion_prediction/V3/input_frames/frame_0197.jpg', 'inputs/V3/frame_0197.jpg', \"[Errno 2] No such file or directory: 'inputs/V3/frame_0197.jpg'\"), ('/content/drive/MyDrive/motion-raw-video/data/dataset_motion_prediction/V3/input_frames/frame_0198.jpg', 'inputs/V3/frame_0198.jpg', \"[Errno 2] No such file or directory: 'inputs/V3/frame_0198.jpg'\"), ('/content/drive/MyDrive/motion-raw-video/data/dataset_motion_prediction/V3/input_frames/frame_0199.jpg', 'inputs/V3/frame_0199.jpg', \"[Errno 2] No such file or directory: 'inputs/V3/frame_0199.jpg'\"), ('/content/drive/MyDrive/motion-raw-video/data/dataset_motion_prediction/V3/input_frames/frame_0200.jpg', 'inputs/V3/frame_0200.jpg', \"[Errno 2] No such file or directory: 'inputs/V3/frame_0200.jpg'\"), ('/content/drive/MyDrive/motion-raw-video/data/dataset_motion_prediction/V3/input_frames/frame_0201.jpg', 'inputs/V3/frame_0201.jpg', \"[Errno 2] No such file or directory: 'inputs/V3/frame_0201.jpg'\"), ('/content/drive/MyDrive/motion-raw-video/data/dataset_motion_prediction/V3/input_frames/frame_0202.jpg', 'inputs/V3/frame_0202.jpg', \"[Errno 2] No such file or directory: 'inputs/V3/frame_0202.jpg'\"), ('/content/drive/MyDrive/motion-raw-video/data/dataset_motion_prediction/V3/input_frames/frame_0203.jpg', 'inputs/V3/frame_0203.jpg', \"[Errno 2] No such file or directory: 'inputs/V3/frame_0203.jpg'\"), ('/content/drive/MyDrive/motion-raw-video/data/dataset_motion_prediction/V3/input_frames/frame_0204.jpg', 'inputs/V3/frame_0204.jpg', \"[Errno 2] No such file or directory: 'inputs/V3/frame_0204.jpg'\"), ('/content/drive/MyDrive/motion-raw-video/data/dataset_motion_prediction/V3/input_frames/frame_0205.jpg', 'inputs/V3/frame_0205.jpg', \"[Errno 2] No such file or directory: 'inputs/V3/frame_0205.jpg'\"), ('/content/drive/MyDrive/motion-raw-video/data/dataset_motion_prediction/V3/input_frames/frame_0206.jpg', 'inputs/V3/frame_0206.jpg', \"[Errno 2] No such file or directory: 'inputs/V3/frame_0206.jpg'\"), ('/content/drive/MyDrive/motion-raw-video/data/dataset_motion_prediction/V3/input_frames/frame_0207.jpg', 'inputs/V3/frame_0207.jpg', \"[Errno 2] No such file or directory: 'inputs/V3/frame_0207.jpg'\"), ('/content/drive/MyDrive/motion-raw-video/data/dataset_motion_prediction/V3/input_frames/frame_0208.jpg', 'inputs/V3/frame_0208.jpg', \"[Errno 2] No such file or directory: 'inputs/V3/frame_0208.jpg'\"), ('/content/drive/MyDrive/motion-raw-video/data/dataset_motion_prediction/V3/input_frames/frame_0209.jpg', 'inputs/V3/frame_0209.jpg', \"[Errno 2] No such file or directory: 'inputs/V3/frame_0209.jpg'\"), ('/content/drive/MyDrive/motion-raw-video/data/dataset_motion_prediction/V3/input_frames/frame_0210.jpg', 'inputs/V3/frame_0210.jpg', \"[Errno 2] No such file or directory: 'inputs/V3/frame_0210.jpg'\"), ('/content/drive/MyDrive/motion-raw-video/data/dataset_motion_prediction/V3/input_frames/frame_0211.jpg', 'inputs/V3/frame_0211.jpg', \"[Errno 2] No such file or directory: 'inputs/V3/frame_0211.jpg'\"), ('/content/drive/MyDrive/motion-raw-video/data/dataset_motion_prediction/V3/input_frames/frame_0212.jpg', 'inputs/V3/frame_0212.jpg', \"[Errno 2] No such file or directory: 'inputs/V3/frame_0212.jpg'\"), ('/content/drive/MyDrive/motion-raw-video/data/dataset_motion_prediction/V3/input_frames/frame_0213.jpg', 'inputs/V3/frame_0213.jpg', \"[Errno 2] No such file or directory: 'inputs/V3/frame_0213.jpg'\"), ('/content/drive/MyDrive/motion-raw-video/data/dataset_motion_prediction/V3/input_frames/frame_0214.jpg', 'inputs/V3/frame_0214.jpg', \"[Errno 2] No such file or directory: 'inputs/V3/frame_0214.jpg'\"), ('/content/drive/MyDrive/motion-raw-video/data/dataset_motion_prediction/V3/input_frames/frame_0215.jpg', 'inputs/V3/frame_0215.jpg', \"[Errno 2] No such file or directory: 'inputs/V3/frame_0215.jpg'\"), ('/content/drive/MyDrive/motion-raw-video/data/dataset_motion_prediction/V3/input_frames/frame_0216.jpg', 'inputs/V3/frame_0216.jpg', \"[Errno 2] No such file or directory: 'inputs/V3/frame_0216.jpg'\"), ('/content/drive/MyDrive/motion-raw-video/data/dataset_motion_prediction/V3/input_frames/frame_0217.jpg', 'inputs/V3/frame_0217.jpg', \"[Errno 2] No such file or directory: 'inputs/V3/frame_0217.jpg'\"), ('/content/drive/MyDrive/motion-raw-video/data/dataset_motion_prediction/V3/input_frames/frame_0218.jpg', 'inputs/V3/frame_0218.jpg', \"[Errno 2] No such file or directory: 'inputs/V3/frame_0218.jpg'\"), ('/content/drive/MyDrive/motion-raw-video/data/dataset_motion_prediction/V3/input_frames/frame_0219.jpg', 'inputs/V3/frame_0219.jpg', \"[Errno 2] No such file or directory: 'inputs/V3/frame_0219.jpg'\"), ('/content/drive/MyDrive/motion-raw-video/data/dataset_motion_prediction/V3/input_frames/frame_0220.jpg', 'inputs/V3/frame_0220.jpg', \"[Errno 2] No such file or directory: 'inputs/V3/frame_0220.jpg'\"), ('/content/drive/MyDrive/motion-raw-video/data/dataset_motion_prediction/V3/input_frames/frame_0221.jpg', 'inputs/V3/frame_0221.jpg', \"[Errno 2] No such file or directory: 'inputs/V3/frame_0221.jpg'\"), ('/content/drive/MyDrive/motion-raw-video/data/dataset_motion_prediction/V3/input_frames/frame_0222.jpg', 'inputs/V3/frame_0222.jpg', \"[Errno 2] No such file or directory: 'inputs/V3/frame_0222.jpg'\"), ('/content/drive/MyDrive/motion-raw-video/data/dataset_motion_prediction/V3/input_frames/frame_0223.jpg', 'inputs/V3/frame_0223.jpg', \"[Errno 2] No such file or directory: 'inputs/V3/frame_0223.jpg'\"), ('/content/drive/MyDrive/motion-raw-video/data/dataset_motion_prediction/V3/input_frames/frame_0224.jpg', 'inputs/V3/frame_0224.jpg', \"[Errno 2] No such file or directory: 'inputs/V3/frame_0224.jpg'\"), ('/content/drive/MyDrive/motion-raw-video/data/dataset_motion_prediction/V3/input_frames/frame_0225.jpg', 'inputs/V3/frame_0225.jpg', \"[Errno 2] No such file or directory: 'inputs/V3/frame_0225.jpg'\"), ('/content/drive/MyDrive/motion-raw-video/data/dataset_motion_prediction/V3/input_frames/frame_0226.jpg', 'inputs/V3/frame_0226.jpg', \"[Errno 2] No such file or directory: 'inputs/V3/frame_0226.jpg'\"), ('/content/drive/MyDrive/motion-raw-video/data/dataset_motion_prediction/V3/input_frames/frame_0227.jpg', 'inputs/V3/frame_0227.jpg', \"[Errno 2] No such file or directory: 'inputs/V3/frame_0227.jpg'\"), ('/content/drive/MyDrive/motion-raw-video/data/dataset_motion_prediction/V3/input_frames/frame_0228.jpg', 'inputs/V3/frame_0228.jpg', \"[Errno 2] No such file or directory: 'inputs/V3/frame_0228.jpg'\"), ('/content/drive/MyDrive/motion-raw-video/data/dataset_motion_prediction/V3/input_frames/frame_0229.jpg', 'inputs/V3/frame_0229.jpg', \"[Errno 2] No such file or directory: 'inputs/V3/frame_0229.jpg'\"), ('/content/drive/MyDrive/motion-raw-video/data/dataset_motion_prediction/V3/input_frames/frame_0230.jpg', 'inputs/V3/frame_0230.jpg', \"[Errno 2] No such file or directory: 'inputs/V3/frame_0230.jpg'\"), ('/content/drive/MyDrive/motion-raw-video/data/dataset_motion_prediction/V3/input_frames/frame_0231.jpg', 'inputs/V3/frame_0231.jpg', \"[Errno 2] No such file or directory: 'inputs/V3/frame_0231.jpg'\"), ('/content/drive/MyDrive/motion-raw-video/data/dataset_motion_prediction/V3/input_frames/frame_0232.jpg', 'inputs/V3/frame_0232.jpg', \"[Errno 2] No such file or directory: 'inputs/V3/frame_0232.jpg'\"), ('/content/drive/MyDrive/motion-raw-video/data/dataset_motion_prediction/V3/input_frames/frame_0233.jpg', 'inputs/V3/frame_0233.jpg', \"[Errno 2] No such file or directory: 'inputs/V3/frame_0233.jpg'\"), ('/content/drive/MyDrive/motion-raw-video/data/dataset_motion_prediction/V3/input_frames/frame_0234.jpg', 'inputs/V3/frame_0234.jpg', \"[Errno 2] No such file or directory: 'inputs/V3/frame_0234.jpg'\"), ('/content/drive/MyDrive/motion-raw-video/data/dataset_motion_prediction/V3/input_frames/frame_0235.jpg', 'inputs/V3/frame_0235.jpg', \"[Errno 2] No such file or directory: 'inputs/V3/frame_0235.jpg'\"), ('/content/drive/MyDrive/motion-raw-video/data/dataset_motion_prediction/V3/input_frames/frame_0236.jpg', 'inputs/V3/frame_0236.jpg', \"[Errno 2] No such file or directory: 'inputs/V3/frame_0236.jpg'\"), ('/content/drive/MyDrive/motion-raw-video/data/dataset_motion_prediction/V3/input_frames/frame_0237.jpg', 'inputs/V3/frame_0237.jpg', \"[Errno 2] No such file or directory: 'inputs/V3/frame_0237.jpg'\"), ('/content/drive/MyDrive/motion-raw-video/data/dataset_motion_prediction/V3/input_frames/frame_0238.jpg', 'inputs/V3/frame_0238.jpg', \"[Errno 2] No such file or directory: 'inputs/V3/frame_0238.jpg'\"), ('/content/drive/MyDrive/motion-raw-video/data/dataset_motion_prediction/V3/input_frames/frame_0239.jpg', 'inputs/V3/frame_0239.jpg', \"[Errno 2] No such file or directory: 'inputs/V3/frame_0239.jpg'\"), ('/content/drive/MyDrive/motion-raw-video/data/dataset_motion_prediction/V3/input_frames/frame_0240.jpg', 'inputs/V3/frame_0240.jpg', \"[Errno 2] No such file or directory: 'inputs/V3/frame_0240.jpg'\"), ('/content/drive/MyDrive/motion-raw-video/data/dataset_motion_prediction/V3/input_frames/frame_0241.jpg', 'inputs/V3/frame_0241.jpg', \"[Errno 2] No such file or directory: 'inputs/V3/frame_0241.jpg'\"), ('/content/drive/MyDrive/motion-raw-video/data/dataset_motion_prediction/V3/input_frames/frame_0242.jpg', 'inputs/V3/frame_0242.jpg', \"[Errno 2] No such file or directory: 'inputs/V3/frame_0242.jpg'\"), ('/content/drive/MyDrive/motion-raw-video/data/dataset_motion_prediction/V3/input_frames/frame_0243.jpg', 'inputs/V3/frame_0243.jpg', \"[Errno 2] No such file or directory: 'inputs/V3/frame_0243.jpg'\"), ('/content/drive/MyDrive/motion-raw-video/data/dataset_motion_prediction/V3/input_frames/frame_0244.jpg', 'inputs/V3/frame_0244.jpg', \"[Errno 2] No such file or directory: 'inputs/V3/frame_0244.jpg'\"), ('/content/drive/MyDrive/motion-raw-video/data/dataset_motion_prediction/V3/input_frames/frame_0245.jpg', 'inputs/V3/frame_0245.jpg', \"[Errno 2] No such file or directory: 'inputs/V3/frame_0245.jpg'\"), ('/content/drive/MyDrive/motion-raw-video/data/dataset_motion_prediction/V3/input_frames/frame_0246.jpg', 'inputs/V3/frame_0246.jpg', \"[Errno 2] No such file or directory: 'inputs/V3/frame_0246.jpg'\"), ('/content/drive/MyDrive/motion-raw-video/data/dataset_motion_prediction/V3/input_frames/frame_0247.jpg', 'inputs/V3/frame_0247.jpg', \"[Errno 2] No such file or directory: 'inputs/V3/frame_0247.jpg'\"), ('/content/drive/MyDrive/motion-raw-video/data/dataset_motion_prediction/V3/input_frames/frame_0248.jpg', 'inputs/V3/frame_0248.jpg', \"[Errno 2] No such file or directory: 'inputs/V3/frame_0248.jpg'\"), ('/content/drive/MyDrive/motion-raw-video/data/dataset_motion_prediction/V3/input_frames/frame_0249.jpg', 'inputs/V3/frame_0249.jpg', \"[Errno 2] No such file or directory: 'inputs/V3/frame_0249.jpg'\"), ('/content/drive/MyDrive/motion-raw-video/data/dataset_motion_prediction/V3/input_frames/frame_0250.jpg', 'inputs/V3/frame_0250.jpg', \"[Errno 2] No such file or directory: 'inputs/V3/frame_0250.jpg'\"), ('/content/drive/MyDrive/motion-raw-video/data/dataset_motion_prediction/V3/input_frames/frame_0251.jpg', 'inputs/V3/frame_0251.jpg', \"[Errno 2] No such file or directory: 'inputs/V3/frame_0251.jpg'\"), ('/content/drive/MyDrive/motion-raw-video/data/dataset_motion_prediction/V3/input_frames/frame_0252.jpg', 'inputs/V3/frame_0252.jpg', \"[Errno 2] No such file or directory: 'inputs/V3/frame_0252.jpg'\"), ('/content/drive/MyDrive/motion-raw-video/data/dataset_motion_prediction/V3/input_frames/frame_0253.jpg', 'inputs/V3/frame_0253.jpg', \"[Errno 2] No such file or directory: 'inputs/V3/frame_0253.jpg'\"), ('/content/drive/MyDrive/motion-raw-video/data/dataset_motion_prediction/V3/input_frames/frame_0254.jpg', 'inputs/V3/frame_0254.jpg', \"[Errno 2] No such file or directory: 'inputs/V3/frame_0254.jpg'\"), ('/content/drive/MyDrive/motion-raw-video/data/dataset_motion_prediction/V3/input_frames/frame_0255.jpg', 'inputs/V3/frame_0255.jpg', \"[Errno 2] No such file or directory: 'inputs/V3/frame_0255.jpg'\"), ('/content/drive/MyDrive/motion-raw-video/data/dataset_motion_prediction/V3/input_frames/frame_0256.jpg', 'inputs/V3/frame_0256.jpg', \"[Errno 2] No such file or directory: 'inputs/V3/frame_0256.jpg'\"), ('/content/drive/MyDrive/motion-raw-video/data/dataset_motion_prediction/V3/input_frames/frame_0257.jpg', 'inputs/V3/frame_0257.jpg', \"[Errno 2] No such file or directory: 'inputs/V3/frame_0257.jpg'\"), ('/content/drive/MyDrive/motion-raw-video/data/dataset_motion_prediction/V3/input_frames/frame_0258.jpg', 'inputs/V3/frame_0258.jpg', \"[Errno 2] No such file or directory: 'inputs/V3/frame_0258.jpg'\"), ('/content/drive/MyDrive/motion-raw-video/data/dataset_motion_prediction/V3/input_frames/frame_0259.jpg', 'inputs/V3/frame_0259.jpg', \"[Errno 2] No such file or directory: 'inputs/V3/frame_0259.jpg'\"), ('/content/drive/MyDrive/motion-raw-video/data/dataset_motion_prediction/V3/input_frames/frame_0260.jpg', 'inputs/V3/frame_0260.jpg', \"[Errno 2] No such file or directory: 'inputs/V3/frame_0260.jpg'\"), ('/content/drive/MyDrive/motion-raw-video/data/dataset_motion_prediction/V3/input_frames/frame_0261.jpg', 'inputs/V3/frame_0261.jpg', \"[Errno 2] No such file or directory: 'inputs/V3/frame_0261.jpg'\"), ('/content/drive/MyDrive/motion-raw-video/data/dataset_motion_prediction/V3/input_frames/frame_0262.jpg', 'inputs/V3/frame_0262.jpg', \"[Errno 2] No such file or directory: 'inputs/V3/frame_0262.jpg'\"), ('/content/drive/MyDrive/motion-raw-video/data/dataset_motion_prediction/V3/input_frames/frame_0263.jpg', 'inputs/V3/frame_0263.jpg', \"[Errno 2] No such file or directory: 'inputs/V3/frame_0263.jpg'\"), ('/content/drive/MyDrive/motion-raw-video/data/dataset_motion_prediction/V3/input_frames/frame_0264.jpg', 'inputs/V3/frame_0264.jpg', \"[Errno 2] No such file or directory: 'inputs/V3/frame_0264.jpg'\"), ('/content/drive/MyDrive/motion-raw-video/data/dataset_motion_prediction/V3/input_frames/frame_0265.jpg', 'inputs/V3/frame_0265.jpg', \"[Errno 2] No such file or directory: 'inputs/V3/frame_0265.jpg'\"), ('/content/drive/MyDrive/motion-raw-video/data/dataset_motion_prediction/V3/input_frames/frame_0266.jpg', 'inputs/V3/frame_0266.jpg', \"[Errno 2] No such file or directory: 'inputs/V3/frame_0266.jpg'\"), ('/content/drive/MyDrive/motion-raw-video/data/dataset_motion_prediction/V3/input_frames/frame_0267.jpg', 'inputs/V3/frame_0267.jpg', \"[Errno 2] No such file or directory: 'inputs/V3/frame_0267.jpg'\"), ('/content/drive/MyDrive/motion-raw-video/data/dataset_motion_prediction/V3/input_frames/frame_0268.jpg', 'inputs/V3/frame_0268.jpg', \"[Errno 2] No such file or directory: 'inputs/V3/frame_0268.jpg'\"), ('/content/drive/MyDrive/motion-raw-video/data/dataset_motion_prediction/V3/input_frames/frame_0269.jpg', 'inputs/V3/frame_0269.jpg', \"[Errno 2] No such file or directory: 'inputs/V3/frame_0269.jpg'\"), ('/content/drive/MyDrive/motion-raw-video/data/dataset_motion_prediction/V3/input_frames/frame_0270.jpg', 'inputs/V3/frame_0270.jpg', \"[Errno 2] No such file or directory: 'inputs/V3/frame_0270.jpg'\"), ('/content/drive/MyDrive/motion-raw-video/data/dataset_motion_prediction/V3/input_frames/frame_0271.jpg', 'inputs/V3/frame_0271.jpg', \"[Errno 2] No such file or directory: 'inputs/V3/frame_0271.jpg'\"), ('/content/drive/MyDrive/motion-raw-video/data/dataset_motion_prediction/V3/input_frames/frame_0272.jpg', 'inputs/V3/frame_0272.jpg', \"[Errno 2] No such file or directory: 'inputs/V3/frame_0272.jpg'\"), ('/content/drive/MyDrive/motion-raw-video/data/dataset_motion_prediction/V3/input_frames/frame_0273.jpg', 'inputs/V3/frame_0273.jpg', \"[Errno 2] No such file or directory: 'inputs/V3/frame_0273.jpg'\"), ('/content/drive/MyDrive/motion-raw-video/data/dataset_motion_prediction/V3/input_frames/frame_0274.jpg', 'inputs/V3/frame_0274.jpg', \"[Errno 2] No such file or directory: 'inputs/V3/frame_0274.jpg'\"), ('/content/drive/MyDrive/motion-raw-video/data/dataset_motion_prediction/V3/input_frames/frame_0275.jpg', 'inputs/V3/frame_0275.jpg', \"[Errno 2] No such file or directory: 'inputs/V3/frame_0275.jpg'\"), ('/content/drive/MyDrive/motion-raw-video/data/dataset_motion_prediction/V3/input_frames/frame_0276.jpg', 'inputs/V3/frame_0276.jpg', \"[Errno 2] No such file or directory: 'inputs/V3/frame_0276.jpg'\"), ('/content/drive/MyDrive/motion-raw-video/data/dataset_motion_prediction/V3/input_frames/frame_0277.jpg', 'inputs/V3/frame_0277.jpg', \"[Errno 2] No such file or directory: 'inputs/V3/frame_0277.jpg'\"), ('/content/drive/MyDrive/motion-raw-video/data/dataset_motion_prediction/V3/input_frames/frame_0278.jpg', 'inputs/V3/frame_0278.jpg', \"[Errno 2] No such file or directory: 'inputs/V3/frame_0278.jpg'\"), ('/content/drive/MyDrive/motion-raw-video/data/dataset_motion_prediction/V3/input_frames/frame_0279.jpg', 'inputs/V3/frame_0279.jpg', \"[Errno 2] No such file or directory: 'inputs/V3/frame_0279.jpg'\"), ('/content/drive/MyDrive/motion-raw-video/data/dataset_motion_prediction/V3/input_frames/frame_0280.jpg', 'inputs/V3/frame_0280.jpg', \"[Errno 2] No such file or directory: 'inputs/V3/frame_0280.jpg'\"), ('/content/drive/MyDrive/motion-raw-video/data/dataset_motion_prediction/V3/input_frames/frame_0281.jpg', 'inputs/V3/frame_0281.jpg', \"[Errno 2] No such file or directory: 'inputs/V3/frame_0281.jpg'\"), ('/content/drive/MyDrive/motion-raw-video/data/dataset_motion_prediction/V3/input_frames/frame_0282.jpg', 'inputs/V3/frame_0282.jpg', \"[Errno 2] No such file or directory: 'inputs/V3/frame_0282.jpg'\"), ('/content/drive/MyDrive/motion-raw-video/data/dataset_motion_prediction/V3/input_frames/frame_0283.jpg', 'inputs/V3/frame_0283.jpg', \"[Errno 2] No such file or directory: 'inputs/V3/frame_0283.jpg'\"), ('/content/drive/MyDrive/motion-raw-video/data/dataset_motion_prediction/V3/input_frames/frame_0284.jpg', 'inputs/V3/frame_0284.jpg', \"[Errno 2] No such file or directory: 'inputs/V3/frame_0284.jpg'\"), ('/content/drive/MyDrive/motion-raw-video/data/dataset_motion_prediction/V3/input_frames/frame_0285.jpg', 'inputs/V3/frame_0285.jpg', \"[Errno 2] No such file or directory: 'inputs/V3/frame_0285.jpg'\"), ('/content/drive/MyDrive/motion-raw-video/data/dataset_motion_prediction/V3/input_frames/frame_0286.jpg', 'inputs/V3/frame_0286.jpg', \"[Errno 2] No such file or directory: 'inputs/V3/frame_0286.jpg'\"), ('/content/drive/MyDrive/motion-raw-video/data/dataset_motion_prediction/V3/input_frames/frame_0287.jpg', 'inputs/V3/frame_0287.jpg', \"[Errno 2] No such file or directory: 'inputs/V3/frame_0287.jpg'\"), ('/content/drive/MyDrive/motion-raw-video/data/dataset_motion_prediction/V3/input_frames/frame_0288.jpg', 'inputs/V3/frame_0288.jpg', \"[Errno 2] No such file or directory: 'inputs/V3/frame_0288.jpg'\"), ('/content/drive/MyDrive/motion-raw-video/data/dataset_motion_prediction/V3/input_frames/frame_0289.jpg', 'inputs/V3/frame_0289.jpg', \"[Errno 2] No such file or directory: 'inputs/V3/frame_0289.jpg'\"), ('/content/drive/MyDrive/motion-raw-video/data/dataset_motion_prediction/V3/input_frames/frame_0290.jpg', 'inputs/V3/frame_0290.jpg', \"[Errno 2] No such file or directory: 'inputs/V3/frame_0290.jpg'\"), ('/content/drive/MyDrive/motion-raw-video/data/dataset_motion_prediction/V3/input_frames/frame_0291.jpg', 'inputs/V3/frame_0291.jpg', \"[Errno 2] No such file or directory: 'inputs/V3/frame_0291.jpg'\"), ('/content/drive/MyDrive/motion-raw-video/data/dataset_motion_prediction/V3/input_frames/frame_0292.jpg', 'inputs/V3/frame_0292.jpg', \"[Errno 2] No such file or directory: 'inputs/V3/frame_0292.jpg'\"), ('/content/drive/MyDrive/motion-raw-video/data/dataset_motion_prediction/V3/input_frames/frame_0293.jpg', 'inputs/V3/frame_0293.jpg', \"[Errno 2] No such file or directory: 'inputs/V3/frame_0293.jpg'\"), ('/content/drive/MyDrive/motion-raw-video/data/dataset_motion_prediction/V3/input_frames/frame_0294.jpg', 'inputs/V3/frame_0294.jpg', \"[Errno 2] No such file or directory: 'inputs/V3/frame_0294.jpg'\"), ('/content/drive/MyDrive/motion-raw-video/data/dataset_motion_prediction/V3/input_frames/frame_0295.jpg', 'inputs/V3/frame_0295.jpg', \"[Errno 2] No such file or directory: 'inputs/V3/frame_0295.jpg'\"), ('/content/drive/MyDrive/motion-raw-video/data/dataset_motion_prediction/V3/input_frames/frame_0296.jpg', 'inputs/V3/frame_0296.jpg', \"[Errno 2] No such file or directory: 'inputs/V3/frame_0296.jpg'\"), ('/content/drive/MyDrive/motion-raw-video/data/dataset_motion_prediction/V3/input_frames/frame_0297.jpg', 'inputs/V3/frame_0297.jpg', \"[Errno 2] No such file or directory: 'inputs/V3/frame_0297.jpg'\"), ('/content/drive/MyDrive/motion-raw-video/data/dataset_motion_prediction/V3/input_frames/frame_0298.jpg', 'inputs/V3/frame_0298.jpg', \"[Errno 2] No such file or directory: 'inputs/V3/frame_0298.jpg'\"), ('/content/drive/MyDrive/motion-raw-video/data/dataset_motion_prediction/V3/input_frames/frame_0299.jpg', 'inputs/V3/frame_0299.jpg', \"[Errno 2] No such file or directory: 'inputs/V3/frame_0299.jpg'\"), ('/content/drive/MyDrive/motion-raw-video/data/dataset_motion_prediction/V3/input_frames/frame_0300.jpg', 'inputs/V3/frame_0300.jpg', \"[Errno 2] No such file or directory: 'inputs/V3/frame_0300.jpg'\"), ('/content/drive/MyDrive/motion-raw-video/data/dataset_motion_prediction/V3/input_frames/frame_0301.jpg', 'inputs/V3/frame_0301.jpg', \"[Errno 2] No such file or directory: 'inputs/V3/frame_0301.jpg'\"), ('/content/drive/MyDrive/motion-raw-video/data/dataset_motion_prediction/V3/input_frames/frame_0302.jpg', 'inputs/V3/frame_0302.jpg', \"[Errno 2] No such file or directory: 'inputs/V3/frame_0302.jpg'\"), ('/content/drive/MyDrive/motion-raw-video/data/dataset_motion_prediction/V3/input_frames/frame_0303.jpg', 'inputs/V3/frame_0303.jpg', \"[Errno 2] No such file or directory: 'inputs/V3/frame_0303.jpg'\"), ('/content/drive/MyDrive/motion-raw-video/data/dataset_motion_prediction/V3/input_frames/frame_0304.jpg', 'inputs/V3/frame_0304.jpg', \"[Errno 2] No such file or directory: 'inputs/V3/frame_0304.jpg'\"), ('/content/drive/MyDrive/motion-raw-video/data/dataset_motion_prediction/V3/input_frames/frame_0305.jpg', 'inputs/V3/frame_0305.jpg', \"[Errno 2] No such file or directory: 'inputs/V3/frame_0305.jpg'\"), ('/content/drive/MyDrive/motion-raw-video/data/dataset_motion_prediction/V3/input_frames/frame_0306.jpg', 'inputs/V3/frame_0306.jpg', \"[Errno 2] No such file or directory: 'inputs/V3/frame_0306.jpg'\"), ('/content/drive/MyDrive/motion-raw-video/data/dataset_motion_prediction/V3/input_frames/frame_0307.jpg', 'inputs/V3/frame_0307.jpg', \"[Errno 2] No such file or directory: 'inputs/V3/frame_0307.jpg'\"), ('/content/drive/MyDrive/motion-raw-video/data/dataset_motion_prediction/V3/input_frames/frame_0308.jpg', 'inputs/V3/frame_0308.jpg', \"[Errno 2] No such file or directory: 'inputs/V3/frame_0308.jpg'\"), ('/content/drive/MyDrive/motion-raw-video/data/dataset_motion_prediction/V3/input_frames/frame_0309.jpg', 'inputs/V3/frame_0309.jpg', \"[Errno 2] No such file or directory: 'inputs/V3/frame_0309.jpg'\"), ('/content/drive/MyDrive/motion-raw-video/data/dataset_motion_prediction/V3/input_frames/frame_0310.jpg', 'inputs/V3/frame_0310.jpg', \"[Errno 2] No such file or directory: 'inputs/V3/frame_0310.jpg'\"), ('/content/drive/MyDrive/motion-raw-video/data/dataset_motion_prediction/V3/input_frames/frame_0311.jpg', 'inputs/V3/frame_0311.jpg', \"[Errno 2] No such file or directory: 'inputs/V3/frame_0311.jpg'\"), ('/content/drive/MyDrive/motion-raw-video/data/dataset_motion_prediction/V3/input_frames/frame_0312.jpg', 'inputs/V3/frame_0312.jpg', \"[Errno 2] No such file or directory: 'inputs/V3/frame_0312.jpg'\"), ('/content/drive/MyDrive/motion-raw-video/data/dataset_motion_prediction/V3/input_frames/frame_0313.jpg', 'inputs/V3/frame_0313.jpg', \"[Errno 2] No such file or directory: 'inputs/V3/frame_0313.jpg'\"), ('/content/drive/MyDrive/motion-raw-video/data/dataset_motion_prediction/V3/input_frames/frame_0314.jpg', 'inputs/V3/frame_0314.jpg', \"[Errno 2] No such file or directory: 'inputs/V3/frame_0314.jpg'\"), ('/content/drive/MyDrive/motion-raw-video/data/dataset_motion_prediction/V3/input_frames/frame_0315.jpg', 'inputs/V3/frame_0315.jpg', \"[Errno 2] No such file or directory: 'inputs/V3/frame_0315.jpg'\"), ('/content/drive/MyDrive/motion-raw-video/data/dataset_motion_prediction/V3/input_frames/frame_0316.jpg', 'inputs/V3/frame_0316.jpg', \"[Errno 2] No such file or directory: 'inputs/V3/frame_0316.jpg'\"), ('/content/drive/MyDrive/motion-raw-video/data/dataset_motion_prediction/V3/input_frames/frame_0317.jpg', 'inputs/V3/frame_0317.jpg', \"[Errno 2] No such file or directory: 'inputs/V3/frame_0317.jpg'\"), ('/content/drive/MyDrive/motion-raw-video/data/dataset_motion_prediction/V3/input_frames/frame_0318.jpg', 'inputs/V3/frame_0318.jpg', \"[Errno 2] No such file or directory: 'inputs/V3/frame_0318.jpg'\"), ('/content/drive/MyDrive/motion-raw-video/data/dataset_motion_prediction/V3/input_frames/frame_0319.jpg', 'inputs/V3/frame_0319.jpg', \"[Errno 2] No such file or directory: 'inputs/V3/frame_0319.jpg'\"), ('/content/drive/MyDrive/motion-raw-video/data/dataset_motion_prediction/V3/input_frames/frame_0320.jpg', 'inputs/V3/frame_0320.jpg', \"[Errno 2] No such file or directory: 'inputs/V3/frame_0320.jpg'\"), ('/content/drive/MyDrive/motion-raw-video/data/dataset_motion_prediction/V3/input_frames/frame_0321.jpg', 'inputs/V3/frame_0321.jpg', \"[Errno 2] No such file or directory: 'inputs/V3/frame_0321.jpg'\"), ('/content/drive/MyDrive/motion-raw-video/data/dataset_motion_prediction/V3/input_frames/frame_0322.jpg', 'inputs/V3/frame_0322.jpg', \"[Errno 2] No such file or directory: 'inputs/V3/frame_0322.jpg'\"), ('/content/drive/MyDrive/motion-raw-video/data/dataset_motion_prediction/V3/input_frames/frame_0323.jpg', 'inputs/V3/frame_0323.jpg', \"[Errno 2] No such file or directory: 'inputs/V3/frame_0323.jpg'\"), ('/content/drive/MyDrive/motion-raw-video/data/dataset_motion_prediction/V3/input_frames/frame_0324.jpg', 'inputs/V3/frame_0324.jpg', \"[Errno 2] No such file or directory: 'inputs/V3/frame_0324.jpg'\"), ('/content/drive/MyDrive/motion-raw-video/data/dataset_motion_prediction/V3/input_frames/frame_0325.jpg', 'inputs/V3/frame_0325.jpg', \"[Errno 2] No such file or directory: 'inputs/V3/frame_0325.jpg'\"), ('/content/drive/MyDrive/motion-raw-video/data/dataset_motion_prediction/V3/input_frames/frame_0326.jpg', 'inputs/V3/frame_0326.jpg', \"[Errno 2] No such file or directory: 'inputs/V3/frame_0326.jpg'\"), ('/content/drive/MyDrive/motion-raw-video/data/dataset_motion_prediction/V3/input_frames/frame_0327.jpg', 'inputs/V3/frame_0327.jpg', \"[Errno 2] No such file or directory: 'inputs/V3/frame_0327.jpg'\"), ('/content/drive/MyDrive/motion-raw-video/data/dataset_motion_prediction/V3/input_frames/frame_0328.jpg', 'inputs/V3/frame_0328.jpg', \"[Errno 2] No such file or directory: 'inputs/V3/frame_0328.jpg'\"), ('/content/drive/MyDrive/motion-raw-video/data/dataset_motion_prediction/V3/input_frames/frame_0329.jpg', 'inputs/V3/frame_0329.jpg', \"[Errno 2] No such file or directory: 'inputs/V3/frame_0329.jpg'\"), ('/content/drive/MyDrive/motion-raw-video/data/dataset_motion_prediction/V3/input_frames/frame_0330.jpg', 'inputs/V3/frame_0330.jpg', \"[Errno 2] No such file or directory: 'inputs/V3/frame_0330.jpg'\"), ('/content/drive/MyDrive/motion-raw-video/data/dataset_motion_prediction/V3/input_frames/frame_0331.jpg', 'inputs/V3/frame_0331.jpg', \"[Errno 2] No such file or directory: 'inputs/V3/frame_0331.jpg'\"), ('/content/drive/MyDrive/motion-raw-video/data/dataset_motion_prediction/V3/input_frames/frame_0332.jpg', 'inputs/V3/frame_0332.jpg', \"[Errno 2] No such file or directory: 'inputs/V3/frame_0332.jpg'\"), ('/content/drive/MyDrive/motion-raw-video/data/dataset_motion_prediction/V3/input_frames/frame_0333.jpg', 'inputs/V3/frame_0333.jpg', \"[Errno 2] No such file or directory: 'inputs/V3/frame_0333.jpg'\"), ('/content/drive/MyDrive/motion-raw-video/data/dataset_motion_prediction/V3/input_frames/frame_0334.jpg', 'inputs/V3/frame_0334.jpg', \"[Errno 2] No such file or directory: 'inputs/V3/frame_0334.jpg'\"), ('/content/drive/MyDrive/motion-raw-video/data/dataset_motion_prediction/V3/input_frames/frame_0335.jpg', 'inputs/V3/frame_0335.jpg', \"[Errno 2] No such file or directory: 'inputs/V3/frame_0335.jpg'\"), ('/content/drive/MyDrive/motion-raw-video/data/dataset_motion_prediction/V3/input_frames/frame_0336.jpg', 'inputs/V3/frame_0336.jpg', \"[Errno 2] No such file or directory: 'inputs/V3/frame_0336.jpg'\"), ('/content/drive/MyDrive/motion-raw-video/data/dataset_motion_prediction/V3/input_frames/frame_0337.jpg', 'inputs/V3/frame_0337.jpg', \"[Errno 2] No such file or directory: 'inputs/V3/frame_0337.jpg'\"), ('/content/drive/MyDrive/motion-raw-video/data/dataset_motion_prediction/V3/input_frames/frame_0338.jpg', 'inputs/V3/frame_0338.jpg', \"[Errno 2] No such file or directory: 'inputs/V3/frame_0338.jpg'\"), ('/content/drive/MyDrive/motion-raw-video/data/dataset_motion_prediction/V3/input_frames/frame_0339.jpg', 'inputs/V3/frame_0339.jpg', \"[Errno 2] No such file or directory: 'inputs/V3/frame_0339.jpg'\"), ('/content/drive/MyDrive/motion-raw-video/data/dataset_motion_prediction/V3/input_frames/frame_0340.jpg', 'inputs/V3/frame_0340.jpg', \"[Errno 2] No such file or directory: 'inputs/V3/frame_0340.jpg'\"), ('/content/drive/MyDrive/motion-raw-video/data/dataset_motion_prediction/V3/input_frames/frame_0341.jpg', 'inputs/V3/frame_0341.jpg', \"[Errno 2] No such file or directory: 'inputs/V3/frame_0341.jpg'\"), ('/content/drive/MyDrive/motion-raw-video/data/dataset_motion_prediction/V3/input_frames/frame_0342.jpg', 'inputs/V3/frame_0342.jpg', \"[Errno 2] No such file or directory: 'inputs/V3/frame_0342.jpg'\"), ('/content/drive/MyDrive/motion-raw-video/data/dataset_motion_prediction/V3/input_frames/frame_0343.jpg', 'inputs/V3/frame_0343.jpg', \"[Errno 2] No such file or directory: 'inputs/V3/frame_0343.jpg'\"), ('/content/drive/MyDrive/motion-raw-video/data/dataset_motion_prediction/V3/input_frames/frame_0344.jpg', 'inputs/V3/frame_0344.jpg', \"[Errno 2] No such file or directory: 'inputs/V3/frame_0344.jpg'\"), ('/content/drive/MyDrive/motion-raw-video/data/dataset_motion_prediction/V3/input_frames/frame_0345.jpg', 'inputs/V3/frame_0345.jpg', \"[Errno 2] No such file or directory: 'inputs/V3/frame_0345.jpg'\"), ('/content/drive/MyDrive/motion-raw-video/data/dataset_motion_prediction/V3/input_frames/frame_0346.jpg', 'inputs/V3/frame_0346.jpg', \"[Errno 2] No such file or directory: 'inputs/V3/frame_0346.jpg'\"), ('/content/drive/MyDrive/motion-raw-video/data/dataset_motion_prediction/V3/input_frames/frame_0347.jpg', 'inputs/V3/frame_0347.jpg', \"[Errno 2] No such file or directory: 'inputs/V3/frame_0347.jpg'\"), ('/content/drive/MyDrive/motion-raw-video/data/dataset_motion_prediction/V3/input_frames/frame_0348.jpg', 'inputs/V3/frame_0348.jpg', \"[Errno 2] No such file or directory: 'inputs/V3/frame_0348.jpg'\"), ('/content/drive/MyDrive/motion-raw-video/data/dataset_motion_prediction/V3/input_frames/frame_0349.jpg', 'inputs/V3/frame_0349.jpg', \"[Errno 2] No such file or directory: 'inputs/V3/frame_0349.jpg'\"), ('/content/drive/MyDrive/motion-raw-video/data/dataset_motion_prediction/V3/input_frames/frame_0350.jpg', 'inputs/V3/frame_0350.jpg', \"[Errno 2] No such file or directory: 'inputs/V3/frame_0350.jpg'\"), ('/content/drive/MyDrive/motion-raw-video/data/dataset_motion_prediction/V3/input_frames/frame_0351.jpg', 'inputs/V3/frame_0351.jpg', \"[Errno 2] No such file or directory: 'inputs/V3/frame_0351.jpg'\"), ('/content/drive/MyDrive/motion-raw-video/data/dataset_motion_prediction/V3/input_frames/frame_0352.jpg', 'inputs/V3/frame_0352.jpg', \"[Errno 2] No such file or directory: 'inputs/V3/frame_0352.jpg'\"), ('/content/drive/MyDrive/motion-raw-video/data/dataset_motion_prediction/V3/input_frames/frame_0353.jpg', 'inputs/V3/frame_0353.jpg', \"[Errno 2] No such file or directory: 'inputs/V3/frame_0353.jpg'\"), ('/content/drive/MyDrive/motion-raw-video/data/dataset_motion_prediction/V3/input_frames/frame_0354.jpg', 'inputs/V3/frame_0354.jpg', \"[Errno 2] No such file or directory: 'inputs/V3/frame_0354.jpg'\"), ('/content/drive/MyDrive/motion-raw-video/data/dataset_motion_prediction/V3/input_frames/frame_0355.jpg', 'inputs/V3/frame_0355.jpg', \"[Errno 2] No such file or directory: 'inputs/V3/frame_0355.jpg'\"), ('/content/drive/MyDrive/motion-raw-video/data/dataset_motion_prediction/V3/input_frames/frame_0356.jpg', 'inputs/V3/frame_0356.jpg', \"[Errno 2] No such file or directory: 'inputs/V3/frame_0356.jpg'\"), ('/content/drive/MyDrive/motion-raw-video/data/dataset_motion_prediction/V3/input_frames/frame_0357.jpg', 'inputs/V3/frame_0357.jpg', \"[Errno 2] No such file or directory: 'inputs/V3/frame_0357.jpg'\"), ('/content/drive/MyDrive/motion-raw-video/data/dataset_motion_prediction/V3/input_frames/frame_0358.jpg', 'inputs/V3/frame_0358.jpg', \"[Errno 2] No such file or directory: 'inputs/V3/frame_0358.jpg'\"), ('/content/drive/MyDrive/motion-raw-video/data/dataset_motion_prediction/V3/input_frames/frame_0359.jpg', 'inputs/V3/frame_0359.jpg', \"[Errno 2] No such file or directory: 'inputs/V3/frame_0359.jpg'\"), ('/content/drive/MyDrive/motion-raw-video/data/dataset_motion_prediction/V3/input_frames/frame_0360.jpg', 'inputs/V3/frame_0360.jpg', \"[Errno 2] No such file or directory: 'inputs/V3/frame_0360.jpg'\"), ('/content/drive/MyDrive/motion-raw-video/data/dataset_motion_prediction/V3/input_frames/frame_0361.jpg', 'inputs/V3/frame_0361.jpg', \"[Errno 2] No such file or directory: 'inputs/V3/frame_0361.jpg'\"), ('/content/drive/MyDrive/motion-raw-video/data/dataset_motion_prediction/V3/input_frames/frame_0362.jpg', 'inputs/V3/frame_0362.jpg', \"[Errno 2] No such file or directory: 'inputs/V3/frame_0362.jpg'\"), ('/content/drive/MyDrive/motion-raw-video/data/dataset_motion_prediction/V3/input_frames/frame_0363.jpg', 'inputs/V3/frame_0363.jpg', \"[Errno 2] No such file or directory: 'inputs/V3/frame_0363.jpg'\"), ('/content/drive/MyDrive/motion-raw-video/data/dataset_motion_prediction/V3/input_frames/frame_0364.jpg', 'inputs/V3/frame_0364.jpg', \"[Errno 2] No such file or directory: 'inputs/V3/frame_0364.jpg'\"), ('/content/drive/MyDrive/motion-raw-video/data/dataset_motion_prediction/V3/input_frames/frame_0365.jpg', 'inputs/V3/frame_0365.jpg', \"[Errno 2] No such file or directory: 'inputs/V3/frame_0365.jpg'\"), ('/content/drive/MyDrive/motion-raw-video/data/dataset_motion_prediction/V3/input_frames/frame_0366.jpg', 'inputs/V3/frame_0366.jpg', \"[Errno 2] No such file or directory: 'inputs/V3/frame_0366.jpg'\"), ('/content/drive/MyDrive/motion-raw-video/data/dataset_motion_prediction/V3/input_frames/frame_0367.jpg', 'inputs/V3/frame_0367.jpg', \"[Errno 2] No such file or directory: 'inputs/V3/frame_0367.jpg'\"), ('/content/drive/MyDrive/motion-raw-video/data/dataset_motion_prediction/V3/input_frames/frame_0368.jpg', 'inputs/V3/frame_0368.jpg', \"[Errno 2] No such file or directory: 'inputs/V3/frame_0368.jpg'\"), ('/content/drive/MyDrive/motion-raw-video/data/dataset_motion_prediction/V3/input_frames/frame_0369.jpg', 'inputs/V3/frame_0369.jpg', \"[Errno 2] No such file or directory: 'inputs/V3/frame_0369.jpg'\"), ('/content/drive/MyDrive/motion-raw-video/data/dataset_motion_prediction/V3/input_frames/frame_0370.jpg', 'inputs/V3/frame_0370.jpg', \"[Errno 2] No such file or directory: 'inputs/V3/frame_0370.jpg'\"), ('/content/drive/MyDrive/motion-raw-video/data/dataset_motion_prediction/V3/input_frames/frame_0371.jpg', 'inputs/V3/frame_0371.jpg', \"[Errno 2] No such file or directory: 'inputs/V3/frame_0371.jpg'\"), ('/content/drive/MyDrive/motion-raw-video/data/dataset_motion_prediction/V3/input_frames/frame_0372.jpg', 'inputs/V3/frame_0372.jpg', \"[Errno 2] No such file or directory: 'inputs/V3/frame_0372.jpg'\"), ('/content/drive/MyDrive/motion-raw-video/data/dataset_motion_prediction/V3/input_frames/frame_0373.jpg', 'inputs/V3/frame_0373.jpg', \"[Errno 2] No such file or directory: 'inputs/V3/frame_0373.jpg'\"), ('/content/drive/MyDrive/motion-raw-video/data/dataset_motion_prediction/V3/input_frames/frame_0374.jpg', 'inputs/V3/frame_0374.jpg', \"[Errno 2] No such file or directory: 'inputs/V3/frame_0374.jpg'\"), ('/content/drive/MyDrive/motion-raw-video/data/dataset_motion_prediction/V3/input_frames/frame_0375.jpg', 'inputs/V3/frame_0375.jpg', \"[Errno 2] No such file or directory: 'inputs/V3/frame_0375.jpg'\"), ('/content/drive/MyDrive/motion-raw-video/data/dataset_motion_prediction/V3/input_frames/frame_0376.jpg', 'inputs/V3/frame_0376.jpg', \"[Errno 2] No such file or directory: 'inputs/V3/frame_0376.jpg'\"), ('/content/drive/MyDrive/motion-raw-video/data/dataset_motion_prediction/V3/input_frames/frame_0377.jpg', 'inputs/V3/frame_0377.jpg', \"[Errno 2] No such file or directory: 'inputs/V3/frame_0377.jpg'\"), ('/content/drive/MyDrive/motion-raw-video/data/dataset_motion_prediction/V3/input_frames/frame_0378.jpg', 'inputs/V3/frame_0378.jpg', \"[Errno 2] No such file or directory: 'inputs/V3/frame_0378.jpg'\"), ('/content/drive/MyDrive/motion-raw-video/data/dataset_motion_prediction/V3/input_frames/frame_0379.jpg', 'inputs/V3/frame_0379.jpg', \"[Errno 2] No such file or directory: 'inputs/V3/frame_0379.jpg'\"), ('/content/drive/MyDrive/motion-raw-video/data/dataset_motion_prediction/V3/input_frames/frame_0380.jpg', 'inputs/V3/frame_0380.jpg', \"[Errno 2] No such file or directory: 'inputs/V3/frame_0380.jpg'\"), ('/content/drive/MyDrive/motion-raw-video/data/dataset_motion_prediction/V3/input_frames/frame_0381.jpg', 'inputs/V3/frame_0381.jpg', \"[Errno 2] No such file or directory: 'inputs/V3/frame_0381.jpg'\"), ('/content/drive/MyDrive/motion-raw-video/data/dataset_motion_prediction/V3/input_frames/frame_0382.jpg', 'inputs/V3/frame_0382.jpg', \"[Errno 2] No such file or directory: 'inputs/V3/frame_0382.jpg'\"), ('/content/drive/MyDrive/motion-raw-video/data/dataset_motion_prediction/V3/input_frames/frame_0383.jpg', 'inputs/V3/frame_0383.jpg', \"[Errno 2] No such file or directory: 'inputs/V3/frame_0383.jpg'\"), ('/content/drive/MyDrive/motion-raw-video/data/dataset_motion_prediction/V3/input_frames/frame_0384.jpg', 'inputs/V3/frame_0384.jpg', \"[Errno 2] No such file or directory: 'inputs/V3/frame_0384.jpg'\"), ('/content/drive/MyDrive/motion-raw-video/data/dataset_motion_prediction/V3/input_frames/frame_0385.jpg', 'inputs/V3/frame_0385.jpg', \"[Errno 2] No such file or directory: 'inputs/V3/frame_0385.jpg'\"), ('/content/drive/MyDrive/motion-raw-video/data/dataset_motion_prediction/V3/input_frames/frame_0386.jpg', 'inputs/V3/frame_0386.jpg', \"[Errno 2] No such file or directory: 'inputs/V3/frame_0386.jpg'\"), ('/content/drive/MyDrive/motion-raw-video/data/dataset_motion_prediction/V3/input_frames/frame_0387.jpg', 'inputs/V3/frame_0387.jpg', \"[Errno 2] No such file or directory: 'inputs/V3/frame_0387.jpg'\"), ('/content/drive/MyDrive/motion-raw-video/data/dataset_motion_prediction/V3/input_frames/frame_0388.jpg', 'inputs/V3/frame_0388.jpg', \"[Errno 2] No such file or directory: 'inputs/V3/frame_0388.jpg'\"), ('/content/drive/MyDrive/motion-raw-video/data/dataset_motion_prediction/V3/input_frames/frame_0389.jpg', 'inputs/V3/frame_0389.jpg', \"[Errno 2] No such file or directory: 'inputs/V3/frame_0389.jpg'\"), ('/content/drive/MyDrive/motion-raw-video/data/dataset_motion_prediction/V3/input_frames/frame_0390.jpg', 'inputs/V3/frame_0390.jpg', \"[Errno 2] No such file or directory: 'inputs/V3/frame_0390.jpg'\"), ('/content/drive/MyDrive/motion-raw-video/data/dataset_motion_prediction/V3/input_frames/frame_0391.jpg', 'inputs/V3/frame_0391.jpg', \"[Errno 2] No such file or directory: 'inputs/V3/frame_0391.jpg'\"), ('/content/drive/MyDrive/motion-raw-video/data/dataset_motion_prediction/V3/input_frames/frame_0392.jpg', 'inputs/V3/frame_0392.jpg', \"[Errno 2] No such file or directory: 'inputs/V3/frame_0392.jpg'\"), ('/content/drive/MyDrive/motion-raw-video/data/dataset_motion_prediction/V3/input_frames/frame_0393.jpg', 'inputs/V3/frame_0393.jpg', \"[Errno 2] No such file or directory: 'inputs/V3/frame_0393.jpg'\"), ('/content/drive/MyDrive/motion-raw-video/data/dataset_motion_prediction/V3/input_frames/frame_0394.jpg', 'inputs/V3/frame_0394.jpg', \"[Errno 2] No such file or directory: 'inputs/V3/frame_0394.jpg'\"), ('/content/drive/MyDrive/motion-raw-video/data/dataset_motion_prediction/V3/input_frames/frame_0395.jpg', 'inputs/V3/frame_0395.jpg', \"[Errno 2] No such file or directory: 'inputs/V3/frame_0395.jpg'\"), ('/content/drive/MyDrive/motion-raw-video/data/dataset_motion_prediction/V3/input_frames/frame_0396.jpg', 'inputs/V3/frame_0396.jpg', \"[Errno 2] No such file or directory: 'inputs/V3/frame_0396.jpg'\"), ('/content/drive/MyDrive/motion-raw-video/data/dataset_motion_prediction/V3/input_frames/frame_0397.jpg', 'inputs/V3/frame_0397.jpg', \"[Errno 2] No such file or directory: 'inputs/V3/frame_0397.jpg'\"), ('/content/drive/MyDrive/motion-raw-video/data/dataset_motion_prediction/V3/input_frames/frame_0398.jpg', 'inputs/V3/frame_0398.jpg', \"[Errno 2] No such file or directory: 'inputs/V3/frame_0398.jpg'\"), ('/content/drive/MyDrive/motion-raw-video/data/dataset_motion_prediction/V3/input_frames/frame_0399.jpg', 'inputs/V3/frame_0399.jpg', \"[Errno 2] No such file or directory: 'inputs/V3/frame_0399.jpg'\"), ('/content/drive/MyDrive/motion-raw-video/data/dataset_motion_prediction/V3/input_frames/frame_0400.jpg', 'inputs/V3/frame_0400.jpg', \"[Errno 2] No such file or directory: 'inputs/V3/frame_0400.jpg'\"), ('/content/drive/MyDrive/motion-raw-video/data/dataset_motion_prediction/V3/input_frames/frame_0401.jpg', 'inputs/V3/frame_0401.jpg', \"[Errno 2] No such file or directory: 'inputs/V3/frame_0401.jpg'\"), ('/content/drive/MyDrive/motion-raw-video/data/dataset_motion_prediction/V3/input_frames/frame_0402.jpg', 'inputs/V3/frame_0402.jpg', \"[Errno 2] No such file or directory: 'inputs/V3/frame_0402.jpg'\"), ('/content/drive/MyDrive/motion-raw-video/data/dataset_motion_prediction/V3/input_frames/frame_0403.jpg', 'inputs/V3/frame_0403.jpg', \"[Errno 2] No such file or directory: 'inputs/V3/frame_0403.jpg'\"), ('/content/drive/MyDrive/motion-raw-video/data/dataset_motion_prediction/V3/input_frames/frame_0404.jpg', 'inputs/V3/frame_0404.jpg', \"[Errno 2] No such file or directory: 'inputs/V3/frame_0404.jpg'\"), ('/content/drive/MyDrive/motion-raw-video/data/dataset_motion_prediction/V3/input_frames/frame_0405.jpg', 'inputs/V3/frame_0405.jpg', \"[Errno 2] No such file or directory: 'inputs/V3/frame_0405.jpg'\"), ('/content/drive/MyDrive/motion-raw-video/data/dataset_motion_prediction/V3/input_frames/frame_0406.jpg', 'inputs/V3/frame_0406.jpg', \"[Errno 2] No such file or directory: 'inputs/V3/frame_0406.jpg'\"), ('/content/drive/MyDrive/motion-raw-video/data/dataset_motion_prediction/V3/input_frames/frame_0407.jpg', 'inputs/V3/frame_0407.jpg', \"[Errno 2] No such file or directory: 'inputs/V3/frame_0407.jpg'\"), ('/content/drive/MyDrive/motion-raw-video/data/dataset_motion_prediction/V3/input_frames/frame_0408.jpg', 'inputs/V3/frame_0408.jpg', \"[Errno 2] No such file or directory: 'inputs/V3/frame_0408.jpg'\"), ('/content/drive/MyDrive/motion-raw-video/data/dataset_motion_prediction/V3/input_frames/frame_0409.jpg', 'inputs/V3/frame_0409.jpg', \"[Errno 2] No such file or directory: 'inputs/V3/frame_0409.jpg'\"), ('/content/drive/MyDrive/motion-raw-video/data/dataset_motion_prediction/V3/input_frames/frame_0410.jpg', 'inputs/V3/frame_0410.jpg', \"[Errno 2] No such file or directory: 'inputs/V3/frame_0410.jpg'\"), ('/content/drive/MyDrive/motion-raw-video/data/dataset_motion_prediction/V3/input_frames/frame_0411.jpg', 'inputs/V3/frame_0411.jpg', \"[Errno 2] No such file or directory: 'inputs/V3/frame_0411.jpg'\"), ('/content/drive/MyDrive/motion-raw-video/data/dataset_motion_prediction/V3/input_frames/frame_0412.jpg', 'inputs/V3/frame_0412.jpg', \"[Errno 2] No such file or directory: 'inputs/V3/frame_0412.jpg'\"), ('/content/drive/MyDrive/motion-raw-video/data/dataset_motion_prediction/V3/input_frames/frame_0413.jpg', 'inputs/V3/frame_0413.jpg', \"[Errno 2] No such file or directory: 'inputs/V3/frame_0413.jpg'\"), ('/content/drive/MyDrive/motion-raw-video/data/dataset_motion_prediction/V3/input_frames/frame_0414.jpg', 'inputs/V3/frame_0414.jpg', \"[Errno 2] No such file or directory: 'inputs/V3/frame_0414.jpg'\"), ('/content/drive/MyDrive/motion-raw-video/data/dataset_motion_prediction/V3/input_frames/frame_0415.jpg', 'inputs/V3/frame_0415.jpg', \"[Errno 2] No such file or directory: 'inputs/V3/frame_0415.jpg'\"), ('/content/drive/MyDrive/motion-raw-video/data/dataset_motion_prediction/V3/input_frames/frame_0416.jpg', 'inputs/V3/frame_0416.jpg', \"[Errno 2] No such file or directory: 'inputs/V3/frame_0416.jpg'\"), ('/content/drive/MyDrive/motion-raw-video/data/dataset_motion_prediction/V3/input_frames/frame_0417.jpg', 'inputs/V3/frame_0417.jpg', \"[Errno 2] No such file or directory: 'inputs/V3/frame_0417.jpg'\"), ('/content/drive/MyDrive/motion-raw-video/data/dataset_motion_prediction/V3/input_frames/frame_0418.jpg', 'inputs/V3/frame_0418.jpg', \"[Errno 2] No such file or directory: 'inputs/V3/frame_0418.jpg'\"), ('/content/drive/MyDrive/motion-raw-video/data/dataset_motion_prediction/V3/input_frames/frame_0419.jpg', 'inputs/V3/frame_0419.jpg', \"[Errno 2] No such file or directory: 'inputs/V3/frame_0419.jpg'\"), ('/content/drive/MyDrive/motion-raw-video/data/dataset_motion_prediction/V3/input_frames/frame_0420.jpg', 'inputs/V3/frame_0420.jpg', \"[Errno 2] No such file or directory: 'inputs/V3/frame_0420.jpg'\"), ('/content/drive/MyDrive/motion-raw-video/data/dataset_motion_prediction/V3/input_frames', 'inputs/V3', '[Errno 2] No such file or directory')]\n",
            "Copied /content/drive/MyDrive/motion-raw-video/data/dataset_motion_prediction/V3/target_frames to targets/V3\n",
            "Copied /content/drive/MyDrive/motion-raw-video/data/dataset_motion_prediction/V4/input_frames to inputs/V4\n",
            "Copied /content/drive/MyDrive/motion-raw-video/data/dataset_motion_prediction/V4/target_frames to targets/V4\n",
            "Copied /content/drive/MyDrive/motion-raw-video/data/dataset_motion_prediction/V5/input_frames to inputs/V5\n",
            "Copied /content/drive/MyDrive/motion-raw-video/data/dataset_motion_prediction/V5/target_frames to targets/V5\n",
            "Copied /content/drive/MyDrive/motion-raw-video/data/dataset_motion_prediction/V16/input_frames to inputs/V16\n",
            "Copied /content/drive/MyDrive/motion-raw-video/data/dataset_motion_prediction/V16/target_frames to targets/V16\n",
            "Copied /content/drive/MyDrive/motion-raw-video/data/dataset_motion_prediction/V17/input_frames to inputs/V17\n",
            "Copied /content/drive/MyDrive/motion-raw-video/data/dataset_motion_prediction/V17/target_frames to targets/V17\n",
            "Copied /content/drive/MyDrive/motion-raw-video/data/dataset_motion_prediction/V18/input_frames to inputs/V18\n",
            "Copied /content/drive/MyDrive/motion-raw-video/data/dataset_motion_prediction/V18/target_frames to targets/V18\n",
            "La copie des dossiers est terminée.\n"
          ]
        }
      ],
      "source": [
        "import os\n",
        "import shutil\n",
        "\n",
        "def copy_directory_contents(src, dst):\n",
        "    if not os.path.exists(src):\n",
        "        print(f\"Source directory {src} does not exist.\")\n",
        "        return\n",
        "    try:\n",
        "        shutil.copytree(src, dst, dirs_exist_ok=True)\n",
        "        print(f\"Copied {src} to {dst}\")\n",
        "    except Exception as e:\n",
        "        print(f\"Error copying {src} to {dst}: {e}\")\n",
        "\n",
        "# Définir les chemins des dossiers de destination\n",
        "destination_inputs = 'inputs'\n",
        "destination_targets = 'targets'\n",
        "\n",
        "# Créer les dossiers de destination s'ils n'existent pas\n",
        "os.makedirs(destination_inputs, exist_ok=True)\n",
        "os.makedirs(destination_targets, exist_ok=True)\n",
        "\n",
        "# Définir le chemin du dossier parent\n",
        "parent_folder = \"/content/drive/MyDrive/motion-raw-video/data/dataset_motion_prediction\"\n",
        "\n",
        "# Parcourir les dossiers enfants\n",
        "for child_folder_name in os.listdir(parent_folder):\n",
        "    child_folder_path = os.path.join(parent_folder, child_folder_name)\n",
        "\n",
        "    # Vérifier si c'est un dossier\n",
        "    if os.path.isdir(child_folder_path):\n",
        "        input_frames_path = os.path.join(child_folder_path, 'input_frames')\n",
        "        target_frames_path = os.path.join(child_folder_path, 'target_frames')\n",
        "\n",
        "        # Vérifier si les dossiers input_frames et target_frames existent\n",
        "        if os.path.exists(input_frames_path):\n",
        "            destination_input_folder = os.path.join(destination_inputs, child_folder_name)\n",
        "            copy_directory_contents(input_frames_path, destination_input_folder)\n",
        "        else:\n",
        "            print(f\"{input_frames_path} does not exist.\")\n",
        "\n",
        "        if os.path.exists(target_frames_path):\n",
        "            destination_target_folder = os.path.join(destination_targets, child_folder_name)\n",
        "            copy_directory_contents(target_frames_path, destination_target_folder)\n",
        "        else:\n",
        "            print(f\"{target_frames_path} does not exist.\")\n",
        "\n",
        "print(\"La copie des dossiers est terminée.\")\n"
      ]
    },
    {
      "cell_type": "code",
      "execution_count": null,
      "metadata": {
        "id": "1xiUABhvESpT"
      },
      "outputs": [],
      "source": []
    }
  ],
  "metadata": {
    "colab": {
      "provenance": []
    },
    "kernelspec": {
      "display_name": "Python 3",
      "name": "python3"
    },
    "language_info": {
      "name": "python"
    }
  },
  "nbformat": 4,
  "nbformat_minor": 0
}